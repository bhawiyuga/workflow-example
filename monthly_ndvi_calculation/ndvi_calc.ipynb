{
 "cells": [
  {
   "cell_type": "code",
   "execution_count": null,
   "id": "28f47f63",
   "metadata": {},
   "outputs": [],
   "source": [
    "from ndvi_calculation import calculate_area_ndvi, load_dataset, search_catalog, geojson_to_bbox"
   ]
  },
  {
   "cell_type": "code",
   "execution_count": null,
   "id": "e4ed2e4e",
   "metadata": {},
   "outputs": [],
   "source": [
    "from geobench import Geobench, geobench\n",
    "\n",
    "# Create a benchmark instance\n",
    "bench = Geobench(\n",
    "    name=\"geospatial-workflow-benchmark\",\n",
    "    outdir=\"test/jupyter-benchmark-results\",\n",
    "    run_monitor=2.0,  # Monitor for 2 seconds before and after execution\n",
    "    clean=True  # Clean output directory if it exists\n",
    ")"
   ]
  },
  {
   "cell_type": "code",
   "execution_count": null,
   "id": "4abdcc16",
   "metadata": {},
   "outputs": [],
   "source": [
    "\n",
    "\n",
    "# Define time range\n",
    "time_range = (\"2023-03-01\", \"2023-03-31\")\n",
    "\n",
    "# Define bounding box from geojson\n",
    "bbox = geojson_to_bbox(\"./boundary/wageningen.geojson\")  # Using the Wageningen bbox for now\n",
    "\n",
    "print(f\"Using bounding box: {bbox}\")"
   ]
  },
  {
   "cell_type": "code",
   "execution_count": null,
   "id": "77cc39a7",
   "metadata": {},
   "outputs": [],
   "source": [
    "# Start monitoring\n",
    "bench.start(\"search-catalog\")\n",
    "\n",
    "# Search catalog\n",
    "items = search_catalog(bbox, time_range, max_cloud_cover=80)\n",
    "\n",
    "result = bench.stop(success=True)"
   ]
  },
  {
   "cell_type": "code",
   "execution_count": null,
   "id": "ceaa0319",
   "metadata": {},
   "outputs": [],
   "source": [
    "# Generate HTML report\n",
    "report_path = bench.generate_report()"
   ]
  },
  {
   "cell_type": "code",
   "execution_count": null,
   "id": "5edac430",
   "metadata": {},
   "outputs": [],
   "source": [
    "# Start monitoring\n",
    "bench.start(\"load-dataset\")\n",
    "\n",
    "# Load dataset\n",
    "dataset = load_dataset(items, resolution=100, groupby=\"solar_day\")\n",
    "\n",
    "result = bench.stop(success=True)"
   ]
  },
  {
   "cell_type": "code",
   "execution_count": null,
   "id": "e58301a4",
   "metadata": {},
   "outputs": [],
   "source": [
    "# Generate HTML report\n",
    "report_path = bench.generate_report()"
   ]
  },
  {
   "cell_type": "markdown",
   "id": "a39b1a3f",
   "metadata": {},
   "source": []
  },
  {
   "cell_type": "code",
   "execution_count": null,
   "id": "38128f17",
   "metadata": {},
   "outputs": [],
   "source": [
    "dataset"
   ]
  },
  {
   "cell_type": "code",
   "execution_count": null,
   "id": "934e1bb0",
   "metadata": {},
   "outputs": [],
   "source": [
    "# Calculate NDVI\n",
    "monthly_max_ndvi = calculate_area_ndvi(dataset)"
   ]
  },
  {
   "cell_type": "code",
   "execution_count": null,
   "id": "4fd75ac9",
   "metadata": {},
   "outputs": [],
   "source": [
    "monthly_max_ndvi.plot(robust=True, cmap=\"seismic\", vmin=-1, vmax=1)"
   ]
  },
  {
   "cell_type": "code",
   "execution_count": null,
   "id": "160db000",
   "metadata": {},
   "outputs": [],
   "source": [
    "# Save as geotiff\n",
    "monthly_max_ndvi.odc.write_cog(\"monthly_max_ndvi.tif\", overwrite=True)"
   ]
  },
  {
   "cell_type": "code",
   "execution_count": null,
   "id": "7edc41c4",
   "metadata": {},
   "outputs": [],
   "source": []
  }
 ],
 "metadata": {
  "kernelspec": {
   "display_name": "example",
   "language": "python",
   "name": "python3"
  },
  "language_info": {
   "codemirror_mode": {
    "name": "ipython",
    "version": 3
   },
   "file_extension": ".py",
   "mimetype": "text/x-python",
   "name": "python",
   "nbconvert_exporter": "python",
   "pygments_lexer": "ipython3",
   "version": "3.12.8"
  }
 },
 "nbformat": 4,
 "nbformat_minor": 5
}
